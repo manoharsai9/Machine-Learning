{
 "cells": [
  {
   "cell_type": "code",
   "execution_count": 1,
   "metadata": {},
   "outputs": [],
   "source": [
    "# Importing the libraries\n",
    "import numpy as np\n",
    "import matplotlib.pyplot as plt\n",
    "import pandas as pd"
   ]
  },
  {
   "cell_type": "code",
   "execution_count": 2,
   "metadata": {},
   "outputs": [],
   "source": [
    "# Importing the dataset\n",
    "dataset = pd.read_csv('50_Startups.csv')\n",
    "X = dataset.iloc[:, :-1].values\n",
    "y = dataset.iloc[:, 4].values"
   ]
  },
  {
   "cell_type": "code",
   "execution_count": 3,
   "metadata": {},
   "outputs": [],
   "source": [
    "# Encoding categorical data\n",
    "from sklearn.preprocessing import LabelEncoder, OneHotEncoder\n",
    "labelencoder = LabelEncoder()\n",
    "X[:, 3] = labelencoder.fit_transform(X[:, 3])\n",
    "onehotencoder = OneHotEncoder(categorical_features = [3])\n",
    "X = onehotencoder.fit_transform(X).toarray()"
   ]
  },
  {
   "cell_type": "code",
   "execution_count": 4,
   "metadata": {},
   "outputs": [],
   "source": [
    "# Avoiding the Dummy Variable Trap\n",
    "X = X[:, 1:]"
   ]
  },
  {
   "cell_type": "code",
   "execution_count": 5,
   "metadata": {},
   "outputs": [
    {
     "name": "stderr",
     "output_type": "stream",
     "text": [
      "/Users/manoharsaijasti/anaconda3/lib/python3.6/site-packages/sklearn/cross_validation.py:41: DeprecationWarning: This module was deprecated in version 0.18 in favor of the model_selection module into which all the refactored classes and functions are moved. Also note that the interface of the new CV iterators are different from that of this module. This module will be removed in 0.20.\n",
      "  \"This module will be removed in 0.20.\", DeprecationWarning)\n"
     ]
    }
   ],
   "source": [
    "# Splitting the dataset into the Training set and Test set\n",
    "from sklearn.cross_validation import train_test_split\n",
    "X_train, X_test, y_train, y_test = train_test_split(X, y, test_size = 0.2, random_state = 0)"
   ]
  },
  {
   "cell_type": "code",
   "execution_count": 6,
   "metadata": {},
   "outputs": [],
   "source": [
    "# Fitting Multiple Linear Regression to the Training set\n",
    "from sklearn.linear_model import LinearRegression\n",
    "regressor = LinearRegression()\n",
    "regressor.fit(X_train, y_train)\n",
    "\n",
    "# Predicting the Test set results\n",
    "y_pred = regressor.predict(X_test)"
   ]
  },
  {
   "cell_type": "code",
   "execution_count": 7,
   "metadata": {},
   "outputs": [
    {
     "name": "stdout",
     "output_type": "stream",
     "text": [
      "Actual Values vs Predicted Values before Backward Elimination\n",
      "103282.38 \t 103015.201598\n",
      "144259.4 \t 132582.277608\n",
      "146121.95 \t 132447.738452\n",
      "77798.83 \t 71976.0985126\n",
      "191050.39 \t 178537.482211\n",
      "105008.31 \t 116161.242302\n",
      "81229.06 \t 67851.6920968\n",
      "97483.56 \t 98791.7337469\n",
      "110352.25 \t 113969.43533\n",
      "166187.94 \t 167921.065696\n"
     ]
    }
   ],
   "source": [
    "print(\"Actual Values vs Predicted Values before Backward Elimination\")\n",
    "for counter,i in enumerate(y_pred):\n",
    "    y_pred = list(y_pred)\n",
    "    y_test = list(y_test)\n",
    "    print(y_test[counter],'\\t',y_pred[counter])"
   ]
  },
  {
   "cell_type": "markdown",
   "metadata": {},
   "source": [
    "# P-Value\n",
    "    The p-value is the probability that if the null hypothesis were true, sampling variation would produce \n",
    "    an estimate that is further away from the hypothesised value than our data estimate. \n",
    "\n",
    "# Using Backward Elimination to build an optimal model \n",
    "    The algorithm is as follows:\n",
    "    1) Select a significance level to stay in the model\n",
    "    2) Fit the full method with all possible predictors \n",
    "    3) consider the predictor with the highest P-value, if p>sl, go to step 4, otherwise model is ready\n",
    "    4) remove the predictor\n",
    "    5) fit model without this variable"
   ]
  },
  {
   "cell_type": "code",
   "execution_count": 8,
   "metadata": {},
   "outputs": [],
   "source": [
    "#Backward Elimination automation \n",
    "def backward_elimination(X,SL=0.05):\n",
    "\n",
    "    X_temp=sm.OLS(endog=y,exog=X).fit()\n",
    "\n",
    "    #print(X_temp.summary())\n",
    "\n",
    "    maxvalue=np.max(X_temp.pvalues).astype(float)\n",
    "\n",
    "    if maxvalue>SL:\n",
    "\n",
    "        maxindex=np.argmax(X_temp.pvalues)\n",
    "\n",
    "        X_=np.delete(X,maxindex,axis=1)\n",
    "\n",
    "        X=backward_elimination(X_)\n",
    "\n",
    "    return X\n",
    "\n"
   ]
  },
  {
   "cell_type": "code",
   "execution_count": 9,
   "metadata": {},
   "outputs": [],
   "source": [
    "#Building the optimal model using backward elimination\n",
    "import statsmodels.formula.api as sm\n",
    "\n",
    "X = np.append(arr = np.ones((50,1)).astype(int), values= X, axis =1 )\n",
    "\n",
    "X_opt = X[:, [0,1,2,3,4,5]]\n",
    "\n",
    "\n",
    "x_opt_be = backward_elimination(X_opt)\n"
   ]
  },
  {
   "cell_type": "code",
   "execution_count": 11,
   "metadata": {},
   "outputs": [],
   "source": [
    "# Splitting the dataset into the Training set and Test set\n",
    "from sklearn.cross_validation import train_test_split\n",
    "X_train, X_test, y_train, y_test = train_test_split(x_opt_be, y, test_size = 0.2, random_state = 0)"
   ]
  },
  {
   "cell_type": "code",
   "execution_count": 14,
   "metadata": {},
   "outputs": [],
   "source": [
    "#Creating an another instance of LinearRegression class\n",
    "regressor2 = LinearRegression()"
   ]
  },
  {
   "cell_type": "code",
   "execution_count": 15,
   "metadata": {},
   "outputs": [
    {
     "data": {
      "text/plain": [
       "LinearRegression(copy_X=True, fit_intercept=True, n_jobs=1, normalize=False)"
      ]
     },
     "execution_count": 15,
     "metadata": {},
     "output_type": "execute_result"
    }
   ],
   "source": [
    "#Fitting Multiple Linear Regression to the Training set\n",
    "regressor2.fit(X_train, y_train)"
   ]
  },
  {
   "cell_type": "code",
   "execution_count": 16,
   "metadata": {},
   "outputs": [],
   "source": [
    "# Predicting the Test set results\n",
    "y_pred = regressor2.predict(X_test)"
   ]
  },
  {
   "cell_type": "code",
   "execution_count": 18,
   "metadata": {},
   "outputs": [
    {
     "name": "stdout",
     "output_type": "stream",
     "text": [
      "Actual Values vs Predicted Values After Backward Elimination\n",
      "103282.38 \t 104667.27806\n",
      "144259.4 \t 134150.834106\n",
      "146121.95 \t 135207.800195\n",
      "77798.83 \t 72170.5442886\n",
      "191050.39 \t 179090.586025\n",
      "105008.31 \t 109824.773866\n",
      "81229.06 \t 65644.2777376\n",
      "97483.56 \t 100481.432771\n",
      "110352.25 \t 111431.752024\n",
      "166187.94 \t 169438.148435\n"
     ]
    }
   ],
   "source": [
    "print(\"Actual Values vs Predicted Values After Backward Elimination\")\n",
    "for counter,i in enumerate(y_pred):\n",
    "    y_pred = list(y_pred)\n",
    "    y_test = list(y_test)\n",
    "    print(y_test[counter],'\\t',y_pred[counter])"
   ]
  },
  {
   "cell_type": "code",
   "execution_count": null,
   "metadata": {},
   "outputs": [],
   "source": []
  }
 ],
 "metadata": {
  "kernelspec": {
   "display_name": "Python 3",
   "language": "python",
   "name": "python3"
  },
  "language_info": {
   "codemirror_mode": {
    "name": "ipython",
    "version": 3
   },
   "file_extension": ".py",
   "mimetype": "text/x-python",
   "name": "python",
   "nbconvert_exporter": "python",
   "pygments_lexer": "ipython3",
   "version": "3.6.3"
  }
 },
 "nbformat": 4,
 "nbformat_minor": 2
}
